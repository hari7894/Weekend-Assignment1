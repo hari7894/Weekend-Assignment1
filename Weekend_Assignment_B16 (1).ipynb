{
 "cells": [
  {
   "cell_type": "code",
   "execution_count": null,
   "metadata": {},
   "outputs": [],
   "source": [
    "#activity one"
   ]
  },
  {
   "cell_type": "code",
   "execution_count": 3,
   "metadata": {},
   "outputs": [],
   "source": [
    "class Restaurant:\n",
    "    \"\"\"creating restaurant class\"\"\"\n",
    "    def __init__(self,restaurant_name,cuisine_type):\n",
    "        self.restaurant_name=restaurant_name\n",
    "        self.cuisine_type=cuisine_type\n",
    "    def describe_restaurant(self):\n",
    "        print(f\"{self.restaurant_name.title()} is a very famous restaurant in tirupati.\\n\")\n",
    "        print(f\"It is {self.cuisine_type.title()} restaurant. \\n\")\n",
    "    def open_restaurant(self):\n",
    "        print(f\"{self.restaurant_name.title()} is open.\\n\")\n",
    "              "
   ]
  },
  {
   "cell_type": "code",
   "execution_count": 6,
   "metadata": {},
   "outputs": [],
   "source": [
    "x=Restaurant('taj','chinese')"
   ]
  },
  {
   "cell_type": "code",
   "execution_count": 8,
   "metadata": {},
   "outputs": [
    {
     "name": "stdout",
     "output_type": "stream",
     "text": [
      "Taj is a very famous restaurant in tirupati.\n",
      "\n",
      "It is Chinese restaurant. \n",
      "\n"
     ]
    }
   ],
   "source": [
    "x.describe_restaurant()"
   ]
  },
  {
   "cell_type": "code",
   "execution_count": 9,
   "metadata": {},
   "outputs": [
    {
     "name": "stdout",
     "output_type": "stream",
     "text": [
      "Taj is open.\n",
      "\n"
     ]
    }
   ],
   "source": [
    "x.open_restaurant()"
   ]
  },
  {
   "cell_type": "code",
   "execution_count": 10,
   "metadata": {},
   "outputs": [],
   "source": [
    "x.time='9 am'"
   ]
  },
  {
   "cell_type": "code",
   "execution_count": 12,
   "metadata": {},
   "outputs": [
    {
     "name": "stdout",
     "output_type": "stream",
     "text": [
      "9 am\n"
     ]
    }
   ],
   "source": [
    "print(x.time)"
   ]
  },
  {
   "cell_type": "code",
   "execution_count": 13,
   "metadata": {},
   "outputs": [
    {
     "name": "stdout",
     "output_type": "stream",
     "text": [
      "taj\n"
     ]
    }
   ],
   "source": [
    "print(x.restaurant_name)"
   ]
  },
  {
   "cell_type": "code",
   "execution_count": 14,
   "metadata": {},
   "outputs": [
    {
     "name": "stdout",
     "output_type": "stream",
     "text": [
      "chinese\n"
     ]
    }
   ],
   "source": [
    "print(x.cuisine_type)"
   ]
  },
  {
   "cell_type": "code",
   "execution_count": null,
   "metadata": {},
   "outputs": [],
   "source": [
    "#activity 2"
   ]
  },
  {
   "cell_type": "code",
   "execution_count": 45,
   "metadata": {},
   "outputs": [],
   "source": [
    "class Icecreamstand(Restaurant):\n",
    "    \"\"\"creating Icecreamstand class \"\"\"\n",
    "    def flavours(self,flav1,flav2,flav3):\n",
    "        self.flav1=flav1\n",
    "        self.flav2=flav2\n",
    "        self.flav3=flav3\n",
    "    def flavouravailable(self):\n",
    "        print(f\"These are the flavourd available {self.flav1.title()}, {self.flav2.title()} , {self.flav3.title()}\")"
   ]
  },
  {
   "cell_type": "code",
   "execution_count": 46,
   "metadata": {},
   "outputs": [],
   "source": [
    "y=Icecreamstand('barista','icecream_parlour')"
   ]
  },
  {
   "cell_type": "code",
   "execution_count": 47,
   "metadata": {},
   "outputs": [
    {
     "name": "stdout",
     "output_type": "stream",
     "text": [
      "Barista is a very famous restaurant in tirupati.\n",
      "\n",
      "It is Icecream_Parlour restaurant. \n",
      "\n"
     ]
    }
   ],
   "source": [
    "y.describe_restaurant()"
   ]
  },
  {
   "cell_type": "code",
   "execution_count": 48,
   "metadata": {},
   "outputs": [],
   "source": [
    "y.flavours('orange','choclate','pista')"
   ]
  },
  {
   "cell_type": "code",
   "execution_count": 49,
   "metadata": {},
   "outputs": [
    {
     "name": "stdout",
     "output_type": "stream",
     "text": [
      "These are the flavourd available Orange, Choclate , Pista\n"
     ]
    }
   ],
   "source": [
    "y.flavouravailable()"
   ]
  },
  {
   "cell_type": "code",
   "execution_count": null,
   "metadata": {},
   "outputs": [],
   "source": []
  }
 ],
 "metadata": {
  "kernelspec": {
   "display_name": "Python 3",
   "language": "python",
   "name": "python3"
  },
  "language_info": {
   "codemirror_mode": {
    "name": "ipython",
    "version": 3
   },
   "file_extension": ".py",
   "mimetype": "text/x-python",
   "name": "python",
   "nbconvert_exporter": "python",
   "pygments_lexer": "ipython3",
   "version": "3.7.6"
  }
 },
 "nbformat": 4,
 "nbformat_minor": 4
}
